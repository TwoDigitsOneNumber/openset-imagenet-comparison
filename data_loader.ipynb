{
 "cells": [
  {
   "attachments": {},
   "cell_type": "markdown",
   "metadata": {},
   "source": [
    "# Write dataloader"
   ]
  },
  {
   "cell_type": "code",
   "execution_count": 1,
   "metadata": {},
   "outputs": [],
   "source": [
    "from pathlib import Path\n",
    "import numpy as np\n",
    "import pandas as pd\n",
    "from PIL import Image\n",
    "import torch\n",
    "from torch.utils.data.dataset import Dataset"
   ]
  },
  {
   "cell_type": "code",
   "execution_count": null,
   "metadata": {},
   "outputs": [],
   "source": [
    "class OSCToyDataset(Dataset):\n",
    "    \"\"\" OSC Toy example dataset. Consisting of MNIST (knowns), NIST (negatives), and Devanagari (unknowns; only in test set). MNIST and NIST are taken from EMNIST.\n",
    "\n",
    "    copied from openset_imagenet.dataset.ImagenetDataset and adapted.\n",
    "    \"\"\"\n",
    "\n",
    "    def __init__(self, csv_file, imagenet_path, transform=None):\n",
    "        \"\"\" Constructs an Imagenet Dataset from a CSV file. The file should list the path to the\n",
    "        images and the corresponding label. For example:\n",
    "        test/41/0.png, -1\n",
    "\n",
    "        Args:\n",
    "            csv_file(Path): Path to the csv file with image paths and labels.\n",
    "            imagenet_path(Path): Home directory of the Imagenet dataset.\n",
    "            transform(torchvision.transforms): Transforms to apply to the images.\n",
    "        \"\"\"\n",
    "        self.dataset = pd.read_csv(csv_file, header=None)\n",
    "        self.imagenet_path = Path(imagenet_path)\n",
    "        self.transform = transform\n",
    "        self.label_count = len(self.dataset[1].unique())\n",
    "        self.unique_classes = np.sort(self.dataset[1].unique())\n",
    "\n",
    "    def re_order_labels(self):\n",
    "        \"\"\"This function is intended to reorganize the validation set based on the labels\n",
    "        to avoid disagreements between openmax/evm results and get_arrays functions\n",
    "        as they may not follow the same order of the samples which is important in oscr calculations\"\"\"\n",
    "        self.dataset.sort_values(by=1, inplace=True)\n",
    "        pos_cases = self.dataset[self.dataset[1]>=0]\n",
    "        neg_cases = self.dataset[self.dataset[1]<0]\n",
    "        self.dataset = pd.concat([pos_cases, neg_cases])\n",
    "\n",
    "\n",
    "    def __len__(self):\n",
    "        \"\"\"Returns the length of the dataset. \"\"\"\n",
    "        return len(self.dataset)\n",
    "\n",
    "    def __getitem__(self, index):\n",
    "        \"\"\" Returns a tuple (image, label) of the dataset at the given index. If available, it\n",
    "        applies the defined transform to the image. Images are converted to RGB format.\n",
    "\n",
    "        Args:\n",
    "            index(int): Image index\n",
    "\n",
    "        Returns:\n",
    "            image, label: (image tensor, label tensor)\n",
    "        \"\"\"\n",
    "        if torch.is_tensor(index):\n",
    "            index = index.tolist()\n",
    "\n",
    "        png_path, label = self.dataset.iloc[index]\n",
    "        image = Image.open(self.imagenet_path / png_path).convert(\"L\")\n",
    "\n",
    "        if self.transform is not None:\n",
    "            image = self.transform(image)\n",
    "\n",
    "        # convert int label to tensor\n",
    "        label = torch.as_tensor(int(label), dtype=torch.int64)\n",
    "        return image, label\n",
    "\n",
    "    def has_negatives(self):\n",
    "        \"\"\" Returns true if the dataset contains negative samples.\"\"\"\n",
    "        return -1 in self.unique_classes\n",
    "\n",
    "    def replace_negative_label(self):\n",
    "        \"\"\" Replaces negative label (-1) to biggest_label + 1. This is required if the loss function\n",
    "        is BGsoftmax. Updates the array of unique labels.\n",
    "        \"\"\"\n",
    "        # get the biggest label, which is the number of classes - 1 (since we have the -1 label inside)\n",
    "        biggest_label = self.label_count - 1\n",
    "        self.dataset[1].replace(-1, biggest_label, inplace=True)\n",
    "        self.unique_classes[self.unique_classes == -1] = biggest_label\n",
    "        self.unique_classes.sort()\n",
    "\n",
    "    def remove_negative_label(self):\n",
    "        \"\"\" Removes all negative labels (<0) from the dataset. This is required for training with plain softmax\"\"\"\n",
    "        self.dataset.drop(self.dataset[self.dataset[1] < 0].index, inplace=True)\n",
    "        self.unique_classes = np.sort(self.dataset[1].unique())\n",
    "        self.label_count = len(self.dataset[1].unique())\n",
    "\n",
    "\n",
    "    def calculate_class_weights(self):\n",
    "        \"\"\" Calculates the class weights based on sample counts.\n",
    "\n",
    "        Returns:\n",
    "            class_weights: Tensor with weight for every class.\n",
    "        \"\"\"\n",
    "        # TODO (not laurin): Should it be part of dataset class?\n",
    "        counts = self.dataset.groupby(1).count().to_numpy()\n",
    "        class_weights = (len(self.dataset) / (counts * self.label_count))\n",
    "        return torch.from_numpy(class_weights).float().squeeze()"
   ]
  },
  {
   "cell_type": "code",
   "execution_count": 1,
   "metadata": {},
   "outputs": [
    {
     "ename": "ModuleNotFoundError",
     "evalue": "No module named 'robustness'",
     "output_type": "error",
     "traceback": [
      "\u001b[0;31m---------------------------------------------------------------------------\u001b[0m",
      "\u001b[0;31mModuleNotFoundError\u001b[0m                       Traceback (most recent call last)",
      "\u001b[1;32m/home/user/bergh/openset-imagenet-comparison/data_loader.ipynb Cell 4\u001b[0m in \u001b[0;36m<cell line: 1>\u001b[0;34m()\u001b[0m\n\u001b[0;32m----> <a href='vscode-notebook-cell://ssh-remote%2Brolf.ifi.uzh.ch/home/user/bergh/openset-imagenet-comparison/data_loader.ipynb#W3sdnNjb2RlLXJlbW90ZQ%3D%3D?line=0'>1</a>\u001b[0m \u001b[39mfrom\u001b[39;00m \u001b[39mopenset_imagenet\u001b[39;00m\u001b[39m.\u001b[39;00m\u001b[39mdataset\u001b[39;00m \u001b[39mimport\u001b[39;00m OSCToyDataset\n",
      "File \u001b[0;32m~/openset-imagenet-comparison/openset_imagenet/__init__.py:1\u001b[0m, in \u001b[0;36m<module>\u001b[0;34m\u001b[0m\n\u001b[0;32m----> 1\u001b[0m \u001b[39mfrom\u001b[39;00m \u001b[39m.\u001b[39;00m\u001b[39mprotocol\u001b[39;00m \u001b[39mimport\u001b[39;00m OpenSetProtocol\n\u001b[1;32m      2\u001b[0m \u001b[39mfrom\u001b[39;00m \u001b[39m.\u001b[39;00m\u001b[39mdataset\u001b[39;00m \u001b[39mimport\u001b[39;00m ImagenetDataset\n\u001b[1;32m      3\u001b[0m \u001b[39mfrom\u001b[39;00m \u001b[39m.\u001b[39;00m\u001b[39mmodel\u001b[39;00m \u001b[39mimport\u001b[39;00m ResNet50\n",
      "File \u001b[0;32m~/openset-imagenet-comparison/openset_imagenet/protocol.py:4\u001b[0m, in \u001b[0;36m<module>\u001b[0;34m\u001b[0m\n\u001b[1;32m      2\u001b[0m \u001b[39mfrom\u001b[39;00m \u001b[39mpathlib\u001b[39;00m \u001b[39mimport\u001b[39;00m Path\n\u001b[1;32m      3\u001b[0m \u001b[39mimport\u001b[39;00m \u001b[39mos\u001b[39;00m\n\u001b[0;32m----> 4\u001b[0m \u001b[39mfrom\u001b[39;00m \u001b[39mrobustness\u001b[39;00m\u001b[39m.\u001b[39;00m\u001b[39mtools\u001b[39;00m\u001b[39m.\u001b[39;00m\u001b[39mimagenet_helpers\u001b[39;00m \u001b[39mimport\u001b[39;00m ImageNetHierarchy, common_superclass_wnid\n\u001b[1;32m      5\u001b[0m \u001b[39mfrom\u001b[39;00m \u001b[39msklearn\u001b[39;00m\u001b[39m.\u001b[39;00m\u001b[39mmodel_selection\u001b[39;00m \u001b[39mimport\u001b[39;00m train_test_split\n\u001b[1;32m      8\u001b[0m \u001b[39mclass\u001b[39;00m \u001b[39mOpenSetProtocol\u001b[39;00m:\n",
      "\u001b[0;31mModuleNotFoundError\u001b[0m: No module named 'robustness'"
     ]
    }
   ],
   "source": [
    "from openset_imagenet.dataset import OSCToyDataset"
   ]
  },
  {
   "attachments": {},
   "cell_type": "markdown",
   "metadata": {},
   "source": []
  },
  {
   "cell_type": "code",
   "execution_count": null,
   "metadata": {},
   "outputs": [],
   "source": []
  }
 ],
 "metadata": {
  "kernelspec": {
   "display_name": "base",
   "language": "python",
   "name": "python3"
  },
  "language_info": {
   "codemirror_mode": {
    "name": "ipython",
    "version": 3
   },
   "file_extension": ".py",
   "mimetype": "text/x-python",
   "name": "python",
   "nbconvert_exporter": "python",
   "pygments_lexer": "ipython3",
   "version": "3.9.1"
  },
  "orig_nbformat": 4
 },
 "nbformat": 4,
 "nbformat_minor": 2
}
